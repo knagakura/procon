{
 "cells": [
  {
   "cell_type": "code",
   "execution_count": 2,
   "metadata": {},
   "outputs": [
    {
     "name": "stdout",
     "output_type": "stream",
     "text": [
      "8\n",
      "a\n",
      "aa\n",
      "aaa\n",
      "aaaa\n",
      "aaaaa\n",
      "aaaaaa\n",
      "aaa\n",
      "aaaaaaa\n",
      "No\n"
     ]
    }
   ],
   "source": [
    "n=int(input())\n",
    "w=[]\n",
    "for i in range(n):\n",
    "    w.append(input())\n",
    "if n==len(list(set(w))):\n",
    "  ans='Yes'\n",
    "else:\n",
    "  ans='No'\n",
    "\n",
    "for i in range(n-1):\n",
    "    if w[i][-1:]==w[i+1][0]:\n",
    "        a=0\n",
    "    else:\n",
    "        ans='No'\n",
    "        break\n",
    "print(ans)"
   ]
  },
  {
   "cell_type": "code",
   "execution_count": null,
   "metadata": {},
   "outputs": [],
   "source": []
  }
 ],
 "metadata": {
  "kernelspec": {
   "display_name": "Python 3",
   "language": "python",
   "name": "python3"
  },
  "language_info": {
   "codemirror_mode": {
    "name": "ipython",
    "version": 3
   },
   "file_extension": ".py",
   "mimetype": "text/x-python",
   "name": "python",
   "nbconvert_exporter": "python",
   "pygments_lexer": "ipython3",
   "version": "3.6.5"
  }
 },
 "nbformat": 4,
 "nbformat_minor": 2
}
