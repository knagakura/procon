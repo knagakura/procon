{
 "cells": [
  {
   "cell_type": "code",
   "execution_count": 4,
   "metadata": {},
   "outputs": [
    {
     "name": "stdout",
     "output_type": "stream",
     "text": [
      "1 1\n",
      "100000000\n",
      "99999999\n"
     ]
    }
   ],
   "source": [
    "n,x=map(int,input().split( ))\n",
    "x_i=[]\n",
    "x_i+=map(int,input().split( ))\n",
    "x_i+=[x]\n",
    "x_i.sort()\n",
    "x_c=[]\n",
    "\n",
    "    \n",
    "    \n",
    "for i in range(len(x_i)-1):\n",
    "    x_c+=[x_i[i+1]-x_i[i]]\n",
    "\n",
    "def fun(x):\n",
    "    return x%min(x_c)\n",
    "  \n",
    "li=list(map(fun,x_c))\n",
    "\n",
    "if max(li)==0:\n",
    "    print(min(x_c))\n",
    "else:\n",
    "    print(1)"
   ]
  },
  {
   "cell_type": "code",
   "execution_count": null,
   "metadata": {},
   "outputs": [],
   "source": []
  }
 ],
 "metadata": {
  "kernelspec": {
   "display_name": "Python 3",
   "language": "python",
   "name": "python3"
  },
  "language_info": {
   "codemirror_mode": {
    "name": "ipython",
    "version": 3
   },
   "file_extension": ".py",
   "mimetype": "text/x-python",
   "name": "python",
   "nbconvert_exporter": "python",
   "pygments_lexer": "ipython3",
   "version": "3.6.5"
  }
 },
 "nbformat": 4,
 "nbformat_minor": 2
}
