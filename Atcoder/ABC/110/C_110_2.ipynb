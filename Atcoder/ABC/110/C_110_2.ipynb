{
 "cells": [
  {
   "cell_type": "code",
   "execution_count": 2,
   "metadata": {},
   "outputs": [
    {
     "name": "stdout",
     "output_type": "stream",
     "text": [
      "chokudai\n",
      "redcoder\n",
      "No\n"
     ]
    }
   ],
   "source": [
    "s=list(input())\n",
    "t=list(input())\n",
    "import collections\n",
    "s_c=collections.Counter(s)\n",
    "t_c=collections.Counter(t)\n",
    "s_val, s_count=zip(*s_c.most_common())\n",
    "t_val, t_count=zip(*t_c.most_common())\n",
    "if list(s_count)==list(t_count):\n",
    "    print('Yes')\n",
    "else:\n",
    "    print('No')"
   ]
  },
  {
   "cell_type": "code",
   "execution_count": null,
   "metadata": {},
   "outputs": [],
   "source": []
  }
 ],
 "metadata": {
  "kernelspec": {
   "display_name": "Python 3",
   "language": "python",
   "name": "python3"
  },
  "language_info": {
   "codemirror_mode": {
    "name": "ipython",
    "version": 3
   },
   "file_extension": ".py",
   "mimetype": "text/x-python",
   "name": "python",
   "nbconvert_exporter": "python",
   "pygments_lexer": "ipython3",
   "version": "3.6.5"
  }
 },
 "nbformat": 4,
 "nbformat_minor": 2
}
