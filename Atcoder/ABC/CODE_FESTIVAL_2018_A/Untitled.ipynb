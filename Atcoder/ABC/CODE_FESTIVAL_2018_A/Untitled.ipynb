{
 "cells": [
  {
   "cell_type": "code",
   "execution_count": null,
   "metadata": {},
   "outputs": [
    {
     "name": "stdout",
     "output_type": "stream",
     "text": [
      "7 1000000000\n",
      "100261694256177806 55017793609323647 50568971510512136 98912633370372323 51937770757669401 50688484559490819 108712166294779912\n"
     ]
    }
   ],
   "source": [
    "n,k=map(int,input().split( ))\n",
    "a=list(map(int, input().split( )))\n",
    "import itertools\n",
    "ans=0\n",
    "for l in list(map(list,list(itertools.product(range(k+1),repeat=n)))):\n",
    "    if sum(l)==k:\n",
    "        ans+=1\n",
    "        print(l)\n",
    "print(ans)"
   ]
  },
  {
   "cell_type": "code",
   "execution_count": null,
   "metadata": {},
   "outputs": [],
   "source": []
  }
 ],
 "metadata": {
  "kernelspec": {
   "display_name": "Python 3",
   "language": "python",
   "name": "python3"
  },
  "language_info": {
   "codemirror_mode": {
    "name": "ipython",
    "version": 3
   },
   "file_extension": ".py",
   "mimetype": "text/x-python",
   "name": "python",
   "nbconvert_exporter": "python",
   "pygments_lexer": "ipython3",
   "version": "3.6.5"
  }
 },
 "nbformat": 4,
 "nbformat_minor": 2
}
