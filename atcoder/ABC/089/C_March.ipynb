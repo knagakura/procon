{
 "cells": [
  {
   "cell_type": "code",
   "execution_count": 26,
   "metadata": {},
   "outputs": [
    {
     "name": "stdout",
     "output_type": "stream",
     "text": [
      "5\n",
      "MA\n",
      "RU\n",
      "OB\n",
      "HA\n",
      "HO\n"
     ]
    }
   ],
   "source": [
    "N = int(input())\n",
    "w=[]\n",
    "for i in range(N):\n",
    "    w.append(input())\n",
    "    "
   ]
  },
  {
   "cell_type": "code",
   "execution_count": 27,
   "metadata": {},
   "outputs": [
    {
     "data": {
      "text/plain": [
       "['MA', 'RU', 'OB', 'HA', 'HO']"
      ]
     },
     "execution_count": 27,
     "metadata": {},
     "output_type": "execute_result"
    }
   ],
   "source": [
    "w"
   ]
  },
  {
   "cell_type": "code",
   "execution_count": 28,
   "metadata": {},
   "outputs": [],
   "source": [
    "def first_name(x):\n",
    "    x = x[0]\n",
    "    return x"
   ]
  },
  {
   "cell_type": "code",
   "execution_count": 29,
   "metadata": {},
   "outputs": [
    {
     "data": {
      "text/plain": [
       "'M'"
      ]
     },
     "execution_count": 29,
     "metadata": {},
     "output_type": "execute_result"
    }
   ],
   "source": [
    "first_name('MA')"
   ]
  },
  {
   "cell_type": "code",
   "execution_count": 30,
   "metadata": {},
   "outputs": [],
   "source": [
    "w_first = list(map(first_name, w))"
   ]
  },
  {
   "cell_type": "code",
   "execution_count": 31,
   "metadata": {},
   "outputs": [
    {
     "data": {
      "text/plain": [
       "['M', 'R', 'O', 'H', 'H']"
      ]
     },
     "execution_count": 31,
     "metadata": {},
     "output_type": "execute_result"
    }
   ],
   "source": [
    "w_first"
   ]
  },
  {
   "cell_type": "code",
   "execution_count": 32,
   "metadata": {},
   "outputs": [],
   "source": [
    "import collections\n",
    "w_c=collections.Counter(w_first)\n",
    "\n",
    "w_val, w_count=zip(*w_c.most_common())\n",
    "\n"
   ]
  },
  {
   "cell_type": "code",
   "execution_count": 33,
   "metadata": {},
   "outputs": [
    {
     "data": {
      "text/plain": [
       "Counter({'M': 1, 'R': 1, 'O': 1, 'H': 2})"
      ]
     },
     "execution_count": 33,
     "metadata": {},
     "output_type": "execute_result"
    }
   ],
   "source": [
    "w_c"
   ]
  },
  {
   "cell_type": "code",
   "execution_count": 34,
   "metadata": {},
   "outputs": [
    {
     "data": {
      "text/plain": [
       "(2, 1, 1, 1)"
      ]
     },
     "execution_count": 34,
     "metadata": {},
     "output_type": "execute_result"
    }
   ],
   "source": [
    "w_count"
   ]
  },
  {
   "cell_type": "code",
   "execution_count": 35,
   "metadata": {},
   "outputs": [
    {
     "data": {
      "text/plain": [
       "1"
      ]
     },
     "execution_count": 35,
     "metadata": {},
     "output_type": "execute_result"
    }
   ],
   "source": [
    "w_c.get('M')"
   ]
  },
  {
   "cell_type": "code",
   "execution_count": 36,
   "metadata": {},
   "outputs": [],
   "source": [
    "march_list = ['M', 'A', 'R', 'C', 'H']"
   ]
  },
  {
   "cell_type": "code",
   "execution_count": 48,
   "metadata": {},
   "outputs": [
    {
     "name": "stdout",
     "output_type": "stream",
     "text": [
      "('M', 'A', 'R')\n",
      "[1]\n",
      "[1, 1]\n",
      "0\n",
      "('M', 'A', 'C')\n",
      "[1]\n",
      "0\n",
      "('M', 'A', 'H')\n",
      "[1]\n",
      "[1, 2]\n",
      "0\n",
      "('M', 'R', 'C')\n",
      "[1]\n",
      "[1, 1]\n",
      "0\n",
      "('M', 'R', 'H')\n",
      "[1]\n",
      "[1, 1]\n",
      "[1, 1, 2]\n",
      "2\n",
      "('M', 'C', 'H')\n",
      "[1]\n",
      "[1, 2]\n",
      "2\n",
      "('A', 'R', 'C')\n",
      "[1]\n",
      "2\n",
      "('A', 'R', 'H')\n",
      "[1]\n",
      "[1, 2]\n",
      "2\n",
      "('A', 'C', 'H')\n",
      "[2]\n",
      "2\n",
      "('R', 'C', 'H')\n",
      "[1]\n",
      "[1, 2]\n",
      "2\n",
      "2\n"
     ]
    }
   ],
   "source": [
    "import itertools\n",
    "from functools import reduce\n",
    "march_list = ['M', 'A', 'R', 'C', 'H']\n",
    "march_combinations = list(itertools.combinations(march_list,3))\n",
    "ans = 0\n",
    "for march_com in march_combinations:\n",
    "    march_c = []\n",
    "    print(march_com)\n",
    "    for march in march_com:\n",
    "        if not w_c.get(march) == None:\n",
    "            march_c.append(w_c.get(march))\n",
    "            ans_plus = reduce(lambda x, y: x * y, march_c)\n",
    "            print(march_c)\n",
    "    if len(march_c) == 3:\n",
    "        ans += ans_plus\n",
    "    print(ans)\n",
    "print(ans)\n",
    "    "
   ]
  },
  {
   "cell_type": "code",
   "execution_count": null,
   "metadata": {},
   "outputs": [],
   "source": [
    "N = int(input())\n",
    "w=[]\n",
    "for i in range(N):\n",
    "    w.append(input())\n",
    "\n",
    "def first_name(x):\n",
    "    x = x[0]\n",
    "    return x\n",
    "w_first = list(map(first_name, w))\n",
    "import collections\n",
    "w_c=collections.Counter(w_first)\n",
    "import itertools\n",
    "from functools import reduce\n",
    "march_list = ['M', 'A', 'R', 'C', 'H']\n",
    "march_combinations = list(itertools.combinations(march_list,3))\n",
    "ans = 0\n",
    "for march_com in march_combinations:\n",
    "    march_c = []\n",
    "    for march in march_com:\n",
    "        if not w_c.get(march) == None:\n",
    "            march_c.append(w_c.get(march))\n",
    "            ans_plus = reduce(lambda x, y: x * y, march_c)\n",
    "    if len(march_c) == 3:\n",
    "        ans += ans_plus\n",
    "print(ans)"
   ]
  },
  {
   "cell_type": "code",
   "execution_count": null,
   "metadata": {},
   "outputs": [],
   "source": []
  }
 ],
 "metadata": {
  "kernelspec": {
   "display_name": "Python 3",
   "language": "python",
   "name": "python3"
  },
  "language_info": {
   "codemirror_mode": {
    "name": "ipython",
    "version": 3
   },
   "file_extension": ".py",
   "mimetype": "text/x-python",
   "name": "python",
   "nbconvert_exporter": "python",
   "pygments_lexer": "ipython3",
   "version": "3.7.0"
  }
 },
 "nbformat": 4,
 "nbformat_minor": 2
}
