{
 "cells": [
  {
   "cell_type": "code",
   "execution_count": 2,
   "metadata": {},
   "outputs": [
    {
     "name": "stdout",
     "output_type": "stream",
     "text": [
      "4 -2 -48 -1\n",
      "-20 -35 -91 -23\n",
      "-22 66\n",
      "War\n"
     ]
    }
   ],
   "source": [
    "n,m,X,Y=map(int,input().split( ))\n",
    "x_l=list(map(int,input().split( )))\n",
    "y_l=list(map(int,input().split( )))\n",
    "z_l=list(range(X+1,Y+1))\n",
    "ans='War'\n",
    "for z in z_l:\n",
    "    x=list(filter(lambda x: x<z, x_l))\n",
    "    y=list(filter(lambda y: y>=z, y_l))\n",
    "    if len(x)==n and len(y)==m:\n",
    "        ans=('No War')\n",
    "print(ans)"
   ]
  },
  {
   "cell_type": "code",
   "execution_count": null,
   "metadata": {},
   "outputs": [],
   "source": []
  }
 ],
 "metadata": {
  "kernelspec": {
   "display_name": "Python 3",
   "language": "python",
   "name": "python3"
  },
  "language_info": {
   "codemirror_mode": {
    "name": "ipython",
    "version": 3
   },
   "file_extension": ".py",
   "mimetype": "text/x-python",
   "name": "python",
   "nbconvert_exporter": "python",
   "pygments_lexer": "ipython3",
   "version": "3.6.5"
  }
 },
 "nbformat": 4,
 "nbformat_minor": 2
}
